{
 "cells": [
  {
   "cell_type": "markdown",
   "id": "f05ab046",
   "metadata": {},
   "source": [
    "# PHYS 126: Electrodynamics\n",
    "\n",
    "## Preamble\n",
    "By the end of this assignment, you will be able to simulate the motion of a small number of charged particles in electric and magnetic fields.\n",
    "\n",
    "### Prerequisites: \n",
    "* Basic Python Introduction\n",
    "* Kinematics\n",
    "* Vectors\n",
    "* Coulomb's law\n",
    "\n",
    "### Computational topics:\n",
    "* Plotting\n",
    "* Functions\n",
    "* Usage of Classes\n",
    "* Iteration\n",
    "\n",
    "### Specific tools used:\n",
    "* min, max, abs\n",
    "* numpy functions like sqrt, radians, sin, cos\n",
    "* numpy.linspace\n",
    "* matplotlib\n",
    "  * pyplot, figure, savefig,\n",
    "  * plot, title, x/ylabel, axis, legend\n",
    "* python f-strings\n",
    "\n",
    "In this assignment you will examine the motion of charged particles in electric and magnetic fields.  This will be done by plotting the coordinates and making small animations.  Specifically you will consider:\n",
    "1) The motion of a charged particle in a static uniform external electric field.\n",
    "1) The motion of a charged particle in a static non-uniform external electric field.\n",
    "2) The motion resulting from two charged particles with no external electric field.\n",
    "5) The motion of N particles with no external electric field.\n",
    "\n",
    "## Setup\n",
    "These import statements import modules that will be useful for this exercise.  It is good practice to put all import statements at the top of your program, to only import one thing per line, and to not rename the things you are importing."
   ]
  },
  {
   "cell_type": "code",
   "execution_count": null,
   "id": "fb63cbdf",
   "metadata": {},
   "outputs": [],
   "source": [
    "import os  # for manipulating files on the computer\n",
    "import datetime  # to determine the date and time\n",
    "import numpy as np  # to create and manipulate arrays of numbers\n",
    "import matplotlib.pyplot as plt  # for plotting things\n",
    "import random\n",
    "#%matplotlib notebook"
   ]
  },
  {
   "cell_type": "markdown",
   "id": "a4d1c00b",
   "metadata": {},
   "source": [
    "Now let's define some useful physical constants."
   ]
  },
  {
   "cell_type": "code",
   "execution_count": null,
   "id": "87fa04bf",
   "metadata": {},
   "outputs": [],
   "source": [
    "c = 299792458  # m/s speed of light\n",
    "mu0 = 1.25663706212e-6  # NA^2 magnetic constant\n",
    "e0 = 1/(mu0*c*c)  # electric constant\n",
    "k = 1/(4*np.pi*e0)  # Coulomb constant"
   ]
  },
  {
   "cell_type": "markdown",
   "id": "0ad84f0b",
   "metadata": {},
   "source": [
    "Here we provide a _class_ to represent charged particles.  A class is a way of defining a new type of object.  For this assignment you don't need to understand how the class works, only how to use it.  The code is available for reading, but you only need to know how to create a new particle, ask for its the electric field, and move it according to a field."
   ]
  },
  {
   "cell_type": "code",
   "execution_count": null,
   "id": "abec37ca",
   "metadata": {},
   "outputs": [],
   "source": [
    "class Particle:\n",
    "    \"\"\"A Particle has a mass (in kg), charge (in C), a position vector (in m) and a velocity vector (in m/s).  \n",
    "    \n",
    "    The position and velocity can be 2D or 3D vectors, but they must be consistent, along with any\n",
    "    external electric fields used in the move() method.\n",
    "    \n",
    "    Usage: my_particle = Particle(mass, charge, [x0, y0[, z0]], [vx0, vy0[, vz0]])\n",
    "    \"\"\"\n",
    "    def __init__(self, mass, charge, position, velocity):\n",
    "        \"\"\"Create a new particle.\"\"\"\n",
    "        self.mass = float(mass)\n",
    "        self.charge = float(charge)\n",
    "        # The dtype = numpy.float64 options are to avoid accidentally creating\n",
    "        # arrays of integers if you did e.g. position = [0, 0]\n",
    "        self.position = np.array(position, dtype = np.float64)\n",
    "        self.velocity = np.array(velocity, dtype = np.float64)\n",
    "\n",
    "    def move(self, E_field, dt):\n",
    "        \"\"\"Given an external electric field, update the particle's motion after a time\n",
    "        interval dt.\n",
    "        \"\"\"\n",
    "        # Move the particle according to its existing velocity.\n",
    "        self.position += self.velocity*dt\n",
    "        \n",
    "        # Calculate the electric force.\n",
    "        E_force = self.charge*E_field\n",
    "        acceleration = E_force/self.mass\n",
    "        \n",
    "        # Update the velocity based on the net acceleration.\n",
    "        self.velocity += acceleration*dt\n",
    "\n",
    "    def E_field(self, p):\n",
    "        \"\"\"Return the electric field produced by this particle at position p.\"\"\"\n",
    "        r = p - self.position  # Vector from particle to p\n",
    "        r2 = np.dot(r, r)  # Get the squared magnitude of the vector r.\n",
    "        rhat = r/np.sqrt(r2)  # Get a unit vector in the direction of r.\n",
    "        return k*self.charge/r2 * rhat  # Coulomb's law"
   ]
  },
  {
   "cell_type": "markdown",
   "id": "de98158d",
   "metadata": {},
   "source": [
    "## Single particle in static uniform electric field\n",
    "Start by creating a single particle with a given mass and charge, at rest at the origin.  We will only use 2D position and velocity vectors."
   ]
  },
  {
   "cell_type": "code",
   "execution_count": null,
   "id": "f34d095e",
   "metadata": {},
   "outputs": [],
   "source": [
    "mass = 1.0 # kg\n",
    "charge = 1e-6 # 1 μC\n",
    "particle = Particle(mass, charge, [0, 0], [0, 0])  # The [0, 0] are initial position and velocity."
   ]
  },
  {
   "cell_type": "markdown",
   "id": "5e2a271c",
   "metadata": {},
   "source": [
    "Now we create a function that represents a uniform external electric field.  Electric fields are vectors so we need to return an array of two values since we are only dealing with 2D."
   ]
  },
  {
   "cell_type": "code",
   "execution_count": null,
   "id": "2d7f0590",
   "metadata": {},
   "outputs": [],
   "source": [
    "def E_ext(p):\n",
    "    \"\"\"Return the value of this electric field (in N/C) at point p.\"\"\"\n",
    "    E0 = 1.0\n",
    "    return np.array([E0, 0.0])"
   ]
  },
  {
   "cell_type": "markdown",
   "id": "ecc2461f",
   "metadata": {},
   "source": [
    "Now we are ready to simulate the motion of this particle.  We choose an iteration interval `dt` (in seconds) and a total simulation time."
   ]
  },
  {
   "cell_type": "code",
   "execution_count": null,
   "id": "d4479002",
   "metadata": {},
   "outputs": [],
   "source": [
    "dt = 1  # Seconds\n",
    "t0, t1 = 0, 1000  # Initial and final time of simulation\n",
    "n_iters = int((t1-t0)/dt)  # Number of iterations\n",
    "particle_coord = np.zeros( (n_iters, 2) )  # Create an n x 2 array of zeroes in which to put the coordinates.\n",
    "times = np.zeros(n_iters)  # An array to store the individual time values.\n",
    "t = 0  # Initialize time counter\n",
    "\n",
    "for i in range(n_iters):\n",
    "    pos = particle.position  # Get the position of the particle\n",
    "    particle_coord[i] = pos  # Store the position in the coordinate array\n",
    "    times[i] = t  # Store the time\n",
    "    \n",
    "    e_field = E_ext(pos)  # Calculate the e-field\n",
    "    particle.move(e_field, dt)  # Update the position and velocity after time dt\n",
    "    t += dt  # Update the time"
   ]
  },
  {
   "cell_type": "markdown",
   "id": "494c442d",
   "metadata": {},
   "source": [
    "What does this look like?  Let's plot it with matplotlib.  Note that `particle_coord` is an $n_{\\text{iter}}\\times 2$ array, but the `plot` command wants individual x- and y-value arrays, so we need to extract the values."
   ]
  },
  {
   "cell_type": "code",
   "execution_count": null,
   "id": "0b942dd7",
   "metadata": {},
   "outputs": [],
   "source": [
    "x_values = particle_coord[:,0]\n",
    "y_values = particle_coord[:,1]\n",
    "\n",
    "fig1 = plt.figure()\n",
    "plt.title(\"Motion of single particle in uniform e-field\")\n",
    "\n",
    "plt.plot(times, x_values, label=\"x\")\n",
    "plt.plot(times, y_values, label=\"y\")\n",
    "plt.xlabel(\"Time (s)\")\n",
    "plt.ylabel(\"Distance (m)\")\n",
    "plt.legend(loc=\"upper left\")\n"
   ]
  },
  {
   "cell_type": "markdown",
   "id": "13faadf9",
   "metadata": {},
   "source": [
    "Let's set up some infrastructure for saving plots.  It is good practice to put your plots or any other output files into a separate directory from your code.  Within python we can use the `os` module to create a subdirectory for our plots.  `exist_ok=True` tells it not to consider it an error if the directory already exists.  "
   ]
  },
  {
   "cell_type": "code",
   "execution_count": null,
   "id": "d6589d4a",
   "metadata": {},
   "outputs": [],
   "source": [
    "plotdir = \"plots\"\n",
    "os.makedirs(plotdir, exist_ok=True)\n",
    "fig1.savefig(\"plots/PHYS126_SingleParticle_Coordinates.png\")"
   ]
  },
  {
   "cell_type": "markdown",
   "id": "3930aa55",
   "metadata": {},
   "source": [
    "We can also plot y vs x to visualize the path instead of each coordinate as a function of time.  Since both axes will now represent metres, we should make a plot with matching range scaled.  That way a given visual distance on the x axis will mean the same thing as the same visual distance on the y axis."
   ]
  },
  {
   "cell_type": "code",
   "execution_count": null,
   "id": "f6ddb92a",
   "metadata": {
    "scrolled": false
   },
   "outputs": [],
   "source": [
    "fig2 = plt.figure()\n",
    "plt.title(\"Path of single particle in uniform e-field\")\n",
    "plt.axis(\"equal\")  # This makes the axis scales match, so a size on screen is the same vertically or horizontally.\n",
    "plt.plot(x_values, y_values, label=\"xy\")\n",
    "fig2.savefig(\"plots/PHYS126_SingleParticle_Path.png\")"
   ]
  },
  {
   "cell_type": "markdown",
   "id": "9276ca6d",
   "metadata": {},
   "source": [
    "As expected, for a uniform electric field pointing in the x-direction, a positively charged particle starting at rest at the origin simply accelerates in the +x-direction while its y-coordinate stays at zero.\n",
    "\n",
    "Task: Make a new figure showing the path of a particle in the same electric field, but starting with non-zero velocity $v_{\\text{init}} = (-5.0, 5.0)\\times 10^{-4} \\text{m/s}$.  You will need to fill out the parts of the code where we left `...`."
   ]
  },
  {
   "cell_type": "code",
   "execution_count": null,
   "id": "39eb5e1e",
   "metadata": {
    "scrolled": false
   },
   "outputs": [],
   "source": [
    "############\n",
    "# SOLUTION #\n",
    "############\n",
    "v_init = [-5e-4, 5e-4]\n",
    "particle = Particle(mass, charge, [0, 0], v_init)  # Add a reasonable non-zero initial velocity\n",
    "particle_coord = np.zeros( (n_iters, 2) )  # Create an n x 2 array of zeroes in which to put the coordinates.\n",
    "times = np.zeros(n_iters)  # An array to store the individual time values.\n",
    "t = 0  # Initialize time counter\n",
    "\n",
    "for i in range(n_iters):\n",
    "    pos = particle.position  # Get the position\n",
    "    particle_coord[i] = pos  # Store the position in the coordinate array before updating.\n",
    "    times[i] = t  # Store the time\n",
    "\n",
    "    e_field = E_ext(pos)  # Calculate the e-field\n",
    "    particle.move(e_field, dt)  # Update the position and velocity after time dt\n",
    "    t += dt\n",
    "    \n",
    "x_values = particle_coord[:,0]\n",
    "y_values = particle_coord[:,1]\n",
    "\n",
    "fig3 = plt.figure()\n",
    "plt.title(f\"Path of particle in uniform e-field v_init={v_init} m/s\")\n",
    "plt.axis(\"equal\")  # This makes the axis scales match, so a size on screen is the same vertically or horizontally.\n",
    "plt.plot(x_values, y_values, label=\"xy\")\n",
    "fig3.savefig(\"plots/PHYS126_SingleParticle_VInit.png\")"
   ]
  },
  {
   "cell_type": "code",
   "execution_count": null,
   "id": "59ff4788",
   "metadata": {
    "scrolled": false
   },
   "outputs": [],
   "source": [
    "v_init = ...  # Write the initial velocity as a 2-element sequence.\n",
    "particle = ...  # Create a new particle\n",
    "particle_coord = ...  # Create an n x 2 array of zeroes in which to put the coordinates.\n",
    "times = ...  # An array to store the individual time values.\n",
    "t = 0  # Initialize time counter\n",
    "\n",
    "for i in range(n_iters):\n",
    "    ...  # Get the position\n",
    "    ...  # Store the position in the coordinate array\n",
    "    ...  # Store the time\n",
    "\n",
    "    ...  # Calculate the e-field\n",
    "    ...  # Update the position and velocity after time dt\n",
    "    t += dt\n",
    "    \n",
    "x_values = ...  # Extract the x-values from the coordinate array\n",
    "y_values = ...  # Extract the y-values from the coordinate array\n",
    "\n",
    "fig3 = ...  # Make a figure object\n",
    "...  # Give the figure a title\n",
    "...  # Make the axis scales match, so a size on screen is the same vertically or horizontally.\n",
    "...  # Plot the data\n",
    "...  # Save the figure as PHYS126_SingleParticle_VInit.png in your plots directory"
   ]
  },
  {
   "cell_type": "markdown",
   "id": "b6d97b88",
   "metadata": {},
   "source": [
    "### Non-uniform electric field\n",
    "\n",
    "Here we now provide a more complicated function `E_ext(p)` that returns a position-dependent electric field.  The new field behaves as $\\vec{E}(\\vec{p}) = E_0 \\left(\\sin(k_x x+\\Delta_x)\\hat{x} - \\log\\left|k_y y+\\Delta_y\\right|\\hat{y}\\right)$ for $E_0 = 100 \\text{N/C}$, $k_x = 10 \\text{m}$, $k_y = 1.0 \\text{m}$, and $\\Delta_x = \\Delta_y = 0.01 \\text{m}$."
   ]
  },
  {
   "cell_type": "code",
   "execution_count": null,
   "id": "e02aac8f",
   "metadata": {},
   "outputs": [],
   "source": [
    "def E_ext(p):\n",
    "    \"\"\"Return the value of this electric field (in N/C) at point p.\"\"\"\n",
    "    E0 = 100.0\n",
    "    kx = 10\n",
    "    ky = 1.0\n",
    "    dx = dy = 0.01\n",
    "    x_comp = E0*np.sin(kx*p[0]+dx)\n",
    "    y_comp = -E0*np.log(abs(ky*p[1]+dy))\n",
    "    return np.array([x_comp, y_comp])"
   ]
  },
  {
   "cell_type": "markdown",
   "id": "3656aa34",
   "metadata": {},
   "source": [
    "Task: Based on the code for the example with the uniform electric field, make a plot of the path (y vs. x) of a charged particle in the new non-uniform field, with initial velocity $v_{\\text{init}} = (1.0, 1.0)\\times 10^{-4} \\text{m/s}$.  Save the plot to a file called `PHYS126_NonUniformField.png`."
   ]
  },
  {
   "cell_type": "code",
   "execution_count": null,
   "id": "43ed0881",
   "metadata": {},
   "outputs": [],
   "source": [
    "############\n",
    "# SOLUTION #\n",
    "############\n",
    "# Re-use mass, charge, and time variables (t0, t1, dt, n_iters) from example 1.\n",
    "\n",
    "particle = Particle(mass, charge, [0, 0], [1e-4, 1e-4])\n",
    "\n",
    "# Make new arrays\n",
    "particle_coord = np.zeros( (n_iters, 2) )  # Create an n x 2 array of zeroes in which to put the coordinates.\n",
    "times = np.zeros(n_iters)  # An array to store the individual time values.\n",
    "t = 0  # Initialize time counter\n",
    "\n",
    "for i in range(n_iters):\n",
    "    pos = particle.position  # Get the position\n",
    "    particle_coord[i] = pos  # Store the position in the coordinate array before updating.\n",
    "    times[i] = t  # Store the time\n",
    "\n",
    "    e_field = E_ext(pos)  # Calculate the e-field and zero b-field\n",
    "    particle.move(e_field, dt)  # Update the position and velocity after time dt\n",
    "    t += dt\n",
    "\n",
    "x_values = particle_coord[:,0]\n",
    "y_values = particle_coord[:,1]\n",
    "\n",
    "fig4 = plt.figure()\n",
    "plt.title(\"Path of single particle in non-uniform e-field\")\n",
    "plt.axis(\"equal\")  # This makes the axis scales match, so a size on screen is the same vertically or horizontally.\n",
    "plt.plot(x_values, y_values, label=\"xy\")\n",
    "fig4.savefig(\"plots/PHYS126_NonUniformField.png\")"
   ]
  },
  {
   "cell_type": "code",
   "execution_count": null,
   "id": "7cd8eb21",
   "metadata": {},
   "outputs": [],
   "source": [
    "...  # Write the initial velocity as a 2-element sequence.\n",
    "...  # Create a new particle\n",
    "...  # Create an n x 2 array of zeroes in which to put the coordinates.\n",
    "...  # An array to store the individual time values.\n",
    "t = 0  # Initialize time counter\n",
    "\n",
    "for i in range(n_iters):\n",
    "    ...  # Get the position\n",
    "    ...  # Store the position in the coordinate array\n",
    "    ...  # Store the time\n",
    "\n",
    "    ...  # Calculate the e-field\n",
    "    ...  # Update the position and velocity after time dt\n",
    "    t += dt\n",
    "    \n",
    "x_values = ...  # Extract the x-values from the coordinate array\n",
    "y_values = ...  # Extract the y-values from the coordinate array\n",
    "\n",
    "fig4 = ...  # Make a figure object\n",
    "...  # Give the figure a title\n",
    "...  # Make the axis scales match, so a size on screen is the same vertically or horizontally.\n",
    "...  # Plot the data\n",
    "...  # Save the figure as PHYS126_NonUniformField.png in your plots directory"
   ]
  },
  {
   "cell_type": "markdown",
   "id": "87f66909",
   "metadata": {},
   "source": [
    "## Two particles\n",
    "Now we will simulate the effect of two particles interacting, with zero external field.  To observe non-trivial behaviour, one of the particles will start with non-zero initial velocity."
   ]
  },
  {
   "cell_type": "code",
   "execution_count": null,
   "id": "e2952f07",
   "metadata": {},
   "outputs": [],
   "source": [
    "charge = 1.0e-6  # A more realistic charge for two particles interacting metres apart.\n",
    "\n",
    "# Set up some initial positions and velocities.\n",
    "p1_start = [1.0, 0.0]\n",
    "p1_v0 = [0.0, 0.1]\n",
    "p2_start = [-1.0, 0.0]\n",
    "p2_v0 = [0.0, -0.0]\n",
    "p1 = Particle(mass, charge, p1_start, p1_v0)\n",
    "p2 = Particle(mass, -charge, p2_start, p2_v0)  # One particle has negative charge so they are attracting\n",
    "\n",
    "dt = 1  # Seconds\n",
    "t0, t1 = 0, 1000  # Initial and final time of simulation\n",
    "n_iters = int((t1-t0)/dt)  # Number of iterations\n",
    "\n",
    "# Arrays to store the simulation values, this time we have two particle coordinate arrays.\n",
    "p1_coord = np.zeros((n_iters, 2))\n",
    "p2_coord = np.zeros((n_iters, 2))\n",
    "times = np.zeros(n_iters) \n",
    "t = 0  # Initialize time counter\n",
    "\n",
    "for i in range(n_iters):\n",
    "    pos1 = p1.position  # Get the positions\n",
    "    pos2 = p2.position\n",
    "\n",
    "    # Store the positions in the coordinate arrays before updating.\n",
    "    p1_coord[i] = pos1\n",
    "    p2_coord[i] = pos2\n",
    "    times[i] = t  # Store the time\n",
    "\n",
    "    # Calculate the fields at each of the particles' positions\n",
    "    E12 = p1.E_field(pos2)  # Field at p2 from p1's charge\n",
    "    E21 = p2.E_field(pos1)  # Field at p1 from p2's charge\n",
    "        \n",
    "    # Update the position and velocity after time dt\n",
    "    # Note p1 is affected by field E21 (field at p1 from p2's charge) and vice-versa.\n",
    "    p1.move(E21, dt)\n",
    "    p2.move(E12, dt)\n",
    "    t += dt"
   ]
  },
  {
   "cell_type": "markdown",
   "id": "4dc9bcff",
   "metadata": {},
   "source": [
    "Plotting is similar to what we did with one particle.  Here we only plot the paths (y vs. x), skipping the single-coordinate plots."
   ]
  },
  {
   "cell_type": "code",
   "execution_count": null,
   "id": "531fc5bf",
   "metadata": {},
   "outputs": [],
   "source": [
    "p1_x = p1_coord[:,0]\n",
    "p1_y = p1_coord[:,1]\n",
    "\n",
    "p2_x = p2_coord[:,0]\n",
    "p2_y = p2_coord[:,1]\n",
    "\n",
    "fig5 = plt.figure()\n",
    "plt.title(\"Two Particles Interacting\")\n",
    "plt.axis(\"equal\")  # This makes the axis scales match, so a size on screen is the same vertically or horizontally.\n",
    "plt.plot(p1_x, p1_y, label=\"p1\")\n",
    "plt.plot(p2_x, p2_y, label=\"p2\")\n",
    "plt.legend()\n",
    "fig5.savefig(\"plots/PHYS126_TwoParticles.png\")"
   ]
  },
  {
   "cell_type": "markdown",
   "id": "b55292d1",
   "metadata": {},
   "source": [
    "Task: Recreate the two-particle simulation with initial values so that you get a reasonably stable \"orbit\".  Hint: remember Kepler's laws of planetary motion."
   ]
  },
  {
   "cell_type": "markdown",
   "id": "0e2bf9f5",
   "metadata": {},
   "source": [
    "## Discussion of Results\n",
    "Write your responses to the following questions with a `>` at the start of each line to create a Markdown \"blockquote\" like this:\n",
    "\n",
    "> This is my response.\n",
    "\n",
    "1. How do we know we made a good choice for the time interval `dt` and `t1`?  What happens if you try to set `dt` to be much smaller for a more accurate simulation?\n",
    "2. What happens if you change the initial velocities for figures 3 and 4?\n",
    "3. Describe conceptually how you could extend this simple simulation to include an arbitrary number of particles.\n",
    "4. Describe conceptually how you could extend this simple simulation to include external magnetic fields.\n",
    "3. What were the easiest and most difficult parts of this assignment?  \n",
    "4. Name another physical system that you feel you could simulate, having completed this assignment.\n",
    "\n",
    "## Submission and Grading\n",
    "Submit a single-file Jupyter notebook named PHYS126_Electrodynamics_SFUID.ipynb  This file will be run by the grading TA and it is expected to produce the five figures.  We will look for:\n",
    "1. The code runs without raising exceptions or crashing.\n",
    "2. Your code is readable and has useful comments throughout, without unnecessary comments for trivial operations.\n",
    "4. All plots have proper axis labels, with units.\n",
    "5. The plots generally contain the expected data.\n",
    "6. You have written responses to the Discussion questions at the bottom of your code, in plain english using complete sentences."
   ]
  }
 ],
 "metadata": {
  "kernelspec": {
   "display_name": "Python 3 (ipykernel)",
   "language": "python",
   "name": "python3"
  },
  "language_info": {
   "codemirror_mode": {
    "name": "ipython",
    "version": 3
   },
   "file_extension": ".py",
   "mimetype": "text/x-python",
   "name": "python",
   "nbconvert_exporter": "python",
   "pygments_lexer": "ipython3",
   "version": "3.11.4"
  }
 },
 "nbformat": 4,
 "nbformat_minor": 5
}
