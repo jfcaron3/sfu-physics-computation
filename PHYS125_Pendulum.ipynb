{
 "cells": [
  {
   "cell_type": "markdown",
   "id": "809441ff-9a6b-413a-9da3-9747f909a80a",
   "metadata": {},
   "source": [
    "# PHYS 125 Python Assignment 2: Simple Pendulum\n",
    "\n",
    "## Preamble\n",
    "In this assignment you will plot the motion of a simple pendulum.  The techniques and concepts are very similar to what you used in Assignment 1 with ballistic motion.  This assignment has much more limited explanation, so you will need to review Assignment 1 if you don't remember the basics."
   ]
  },
  {
   "cell_type": "markdown",
   "id": "67fa799a-9888-4150-837f-d4d54fb7134b",
   "metadata": {},
   "source": [
    "## Setup\n",
    "\n",
    "These import statements import modules that will be useful for this exercise:"
   ]
  },
  {
   "cell_type": "code",
   "execution_count": null,
   "id": "ba16ebcd-1fba-4306-88dd-0f003d9a95e9",
   "metadata": {},
   "outputs": [],
   "source": [
    "import os  # for manipulating files on the computer\n",
    "import numpy as np  # for arrays of numbers\n",
    "import matplotlib.pyplot as plt  # for plotting things"
   ]
  },
  {
   "cell_type": "markdown",
   "id": "a685dee1",
   "metadata": {},
   "source": [
    "Define some quantities relating to the physical system:"
   ]
  },
  {
   "cell_type": "code",
   "execution_count": null,
   "id": "3f9b308b",
   "metadata": {},
   "outputs": [],
   "source": [
    "amp = 10  # Swing amplitude in degrees\n",
    "g = -9.81  # m/s² gravity\n",
    "l = 1  # Length of pendulum in metres\n",
    "omega = np.sqrt(abs(g)/l)  # Angular frequency in radians/s"
   ]
  },
  {
   "cell_type": "markdown",
   "id": "92e01994",
   "metadata": {},
   "source": [
    "## Time and Coordinates\n",
    "Make an array of time values from $t_0 = 0$ to $t_1 = 2T$ seconds where $T$ is the oscillation period."
   ]
  },
  {
   "cell_type": "code",
   "execution_count": null,
   "id": "0bbe0d6c",
   "metadata": {},
   "outputs": [],
   "source": [
    "T = ...  # Oscillation period\n",
    "t0 = ...\n",
    "t1 = ...\n",
    "times = ...  # Array of time values (hint: use np.linspace)"
   ]
  },
  {
   "cell_type": "code",
   "execution_count": null,
   "id": "fb943f49",
   "metadata": {},
   "outputs": [],
   "source": [
    "############\n",
    "# SOLUTION #\n",
    "############\n",
    "T = 2*np.pi/omega  # Oscillation period in seconds\n",
    "t0 = 0  # Initial time\n",
    "t1 = 2*T\n",
    "npoints = 51  # Number of points to use in plots\n",
    "\n",
    "times = np.linspace(t0, t1, npoints)"
   ]
  },
  {
   "cell_type": "markdown",
   "id": "fac4cc6b",
   "metadata": {},
   "source": [
    "Now make an array of angle values for each time point, given simple harmonic motion with $\\theta(t) = A_\\theta\\cos\\omega t$ (_i.e._ with $\\theta(0) = A_\\theta$).  Hint: use numpy array operations to act on the entire `times` array at once."
   ]
  },
  {
   "cell_type": "code",
   "execution_count": null,
   "id": "bd2dbfb6",
   "metadata": {},
   "outputs": [],
   "source": [
    "thetas = ... "
   ]
  },
  {
   "cell_type": "code",
   "execution_count": null,
   "id": "07563164",
   "metadata": {},
   "outputs": [],
   "source": [
    "############\n",
    "# SOLUTION #\n",
    "############\n",
    "thetas = amp*np.cos(omega*times)"
   ]
  },
  {
   "cell_type": "markdown",
   "id": "444e07bf",
   "metadata": {},
   "source": [
    "Now use `thetas` to make arrays of x- and y- coordinates, with the origin $(0, 0)$ at the pivot point of the pendulum."
   ]
  },
  {
   "cell_type": "code",
   "execution_count": null,
   "id": "3ced4831",
   "metadata": {},
   "outputs": [],
   "source": [
    "x_array = ...\n",
    "y_array = ..."
   ]
  },
  {
   "cell_type": "code",
   "execution_count": null,
   "id": "508515d4",
   "metadata": {},
   "outputs": [],
   "source": [
    "############\n",
    "# SOLUTION #\n",
    "############\n",
    "x_array = l*np.sin(np.radians(thetas))\n",
    "y_array = -l*np.cos(np.radians(thetas))\n",
    "# Note the conversion to radians"
   ]
  },
  {
   "cell_type": "markdown",
   "id": "9759d582",
   "metadata": {},
   "source": [
    "Print the coordinates to see if they look reasonable.  `x_array` should oscillate between positive and negative values, while `y_array` should oscillate around `-l`. "
   ]
  },
  {
   "cell_type": "code",
   "execution_count": null,
   "id": "ac30d861",
   "metadata": {
    "scrolled": false
   },
   "outputs": [],
   "source": [
    "print(x_array)\n",
    "print(y_array)"
   ]
  },
  {
   "cell_type": "markdown",
   "id": "59453377",
   "metadata": {},
   "source": [
    "## Plotting\n",
    "Now you are ready to make a plot of x and y using `matplotlib`.  In order to make the two plots use the same y-range, plot `x_array` and `y_array+l` to only show the deviations from the θ = 0 point."
   ]
  },
  {
   "cell_type": "code",
   "execution_count": null,
   "id": "cd906106",
   "metadata": {},
   "outputs": [],
   "source": [
    "fig1 = plt.figure()  # Create a figure object so you can save the file.\n",
    "...  # Give the figure a title\n",
    "...  # Plot x vs t\n",
    "...  # Plot (y+l) vs t\n",
    "...  # Label the x-axis\n",
    "...  # Label the y-axis\n",
    "...  # Generate a legend"
   ]
  },
  {
   "cell_type": "code",
   "execution_count": null,
   "id": "1ab0900b",
   "metadata": {},
   "outputs": [],
   "source": [
    "############\n",
    "# SOLUTION #\n",
    "############\n",
    "fig1 = plt.figure()  # Create a figure object so you can save the file.\n",
    "plt.title(f\"{l}m pendulum with amplitude {amp}°\")  # Give the figure a title\n",
    "plt.plot(times, x_array, label=\"x\")  # Plot x vs t\n",
    "plt.plot(times, y_array+l, label=\"y\")  # Plot (y+l) vs t\n",
    "plt.xlabel(\"Time (s)\")\n",
    "plt.ylabel(\"Deviation (m)\")\n",
    "plt.legend()  # Automatically generate a legend"
   ]
  },
  {
   "cell_type": "markdown",
   "id": "c6bc5e79-c0d2-4108-86b1-67dd3bff3536",
   "metadata": {},
   "source": [
    "## Saving Files\n",
    "Now save the plot as an image file.  We could then include it in a report, presentation, or email it to someone.  It is good practice to put your plots or any other output files into a separate directory from your code."
   ]
  },
  {
   "cell_type": "code",
   "execution_count": null,
   "id": "9fe7abc2-9429-447e-afbf-64d0039fda4c",
   "metadata": {},
   "outputs": [],
   "source": [
    "# Make plots directory, exist_ok=True tells it not to consider it an error if the directory already exists.\n",
    "os.makedirs(\"plots\", exist_ok=True)\n",
    "\n",
    "# Now save the file in the plots directory with the timestamp.\n",
    "fig1.savefig(\"plots/PHYS125_Pendulum_Coordinates.png\")"
   ]
  },
  {
   "cell_type": "markdown",
   "id": "55e6416c-1a16-4b1b-ba33-91f72114b12c",
   "metadata": {},
   "source": [
    "## Plotting the path\n",
    "Now you will make a second figure with a plot of just the two coordinates y vs x, _i.e._ the path of the motion.  \n",
    "\n",
    "Since both axes now represent metres, you should make a square plot with equal aspect ratios and equal ranges.  That way a given visual distance on the x axis will mean the same thing as the same visual distance on the y axis.\n",
    "\n",
    "Also, make the plot a bit more of an illustration by drawing a line joining the extrema of motion and the origin at $(0,0)$."
   ]
  },
  {
   "cell_type": "code",
   "execution_count": null,
   "id": "6b77ea7f",
   "metadata": {},
   "outputs": [],
   "source": [
    "fig2 = plt.figure()\n",
    "plt.axis(\"equal\")  # This makes the axis scales match, so a size on screen is the same vertically or horizontally.\n",
    "...  # Give the figure a title\n",
    "...  # Plot y vs x (note: not (y+l) vs x)\n",
    "xmin, xmax, ymax = min(x_array), max(x_array), max(y_array)  # Get the extrema of motion\n",
    "plt.plot([xmin, 0, xmax], [ymax, 0, ymax])  # Plot a line going through three points.\n",
    "...  # Label the x-axis\n",
    "...  # Label the y-axis\n"
   ]
  },
  {
   "cell_type": "code",
   "execution_count": null,
   "id": "eddf88a9",
   "metadata": {
    "scrolled": false
   },
   "outputs": [],
   "source": [
    "fig2 = plt.figure()\n",
    "plt.title(f\"{l}m pendulum with amplitude {amp}°\")\n",
    "plt.axis(\"equal\")  # This makes the axis scales match, so a size on screen is the same vertically or horizontally.\n",
    "plt.plot(x_array, y_array)  # Note: not adding l to the y_values\n",
    "xmin, xmax, ymax = min(x_array), max(x_array), max(y_array)\n",
    "plt.plot([xmin, 0, xmax], [ymax, 0, ymax])\n",
    "plt.xlabel(\"x (m)\")\n",
    "plt.ylabel(\"y (m)\")"
   ]
  },
  {
   "cell_type": "markdown",
   "id": "773fa37f",
   "metadata": {},
   "source": [
    "Now save the figure with the name \"PHYS125_Pendulum_Path.png\"."
   ]
  },
  {
   "cell_type": "code",
   "execution_count": null,
   "id": "06ec44bd",
   "metadata": {},
   "outputs": [],
   "source": [
    "...  # Save the figure to a file called \"PHYS125_Pendulum_Path.png\""
   ]
  },
  {
   "cell_type": "code",
   "execution_count": null,
   "id": "ef17b17b",
   "metadata": {},
   "outputs": [],
   "source": [
    "############\n",
    "# SOLUTION #\n",
    "############\n",
    "fig2.savefig(\"plots/PHYS125_Pendulum_Path.png\")"
   ]
  },
  {
   "cell_type": "markdown",
   "id": "74ed44f0",
   "metadata": {},
   "source": [
    "## Clean-Up\n",
    "Go through the code that you wrote and add comments for anything that is non-obvious.  You need to be able to come back to this code in 6 months or a year and easily understand what you did.  Pragmatically, the instructor and grading TA needs to be able to understand your code.\n",
    "\n",
    "TIP: if you would like to use colourblind-friendly colour combinations, this is most easily done by including the following line in your code before making any plots:\n",
    "`plt.style.use('tableau-colorblind10')`\n",
    "\n",
    "## Discussion of Results\n",
    "Write your responses to the following questions with a `>` at the start of each line to create a Markdown \"blockquote\" like this:\n",
    "\n",
    "> This is my response.\n",
    "\n",
    "1. The simple pendulum depends on the small angle approximation $\\sin\\theta\\approx\\theta$.  Does anything about this exercise also depend on the approximation?\n",
    "2. Repeat making Figure 1 but with `t1 = 52*T` instead of only two oscillations, while keeping all the other parameters the same.  Does anything change about the generated data and figures?  Try to explain what is going on.\n",
    "3. What were the easiest and most difficult parts of this assignment?  \n",
    "4. Do you feel confident making plots of other physical phenomena?\n",
    "\n",
    "## Submission and Grading\n",
    "Submit a single-file Jupyter notebook named PHYS125_Pendulum_SFUID.ipynb  This file will be run by the grading TA and it is expected to produce the three plots.  We will look for:\n",
    "1. The code runs without raising exceptions or crashing.\n",
    "2. The code is readable and has useful comments throughout, without unnecessary comments for trivial operations.\n",
    "4. All plots have proper axis labels, with units.\n",
    "5. The plots generally contain the expected data.\n",
    "6. You have written responses to the Discussion questions at the bottom of your code, in plain english using complete sentences.\n",
    "\n",
    "\n"
   ]
  },
  {
   "cell_type": "markdown",
   "id": "a62741bb",
   "metadata": {},
   "source": [
    "## Bonus: Animation\n",
    "We can produce an animation of the motion relatively easily.  The `plt.plot` function returns a list of `line2D` objects that we normally discard, but if we give them names, we can then manipulate them to create the animation."
   ]
  },
  {
   "cell_type": "code",
   "execution_count": null,
   "id": "c3989c4f",
   "metadata": {},
   "outputs": [],
   "source": [
    "fig3 = plt.figure()\n",
    "plt.title(f\"{l}m pendulum with amplitude {amp}°\")\n",
    "plt.axis(\"equal\")  # This makes the axis scales match, so a size on screen is the same vertically or horizontally.\n",
    "\n",
    "plt.plot(x_array, y_array)  # Plot the path of the motion like in figure 2.\n",
    "xmin, xmax, ymax = min(x_array), max(x_array), max(y_array)\n",
    "plt.plot([xmin, 0, xmax], [ymax, 0, ymax])  # Add a line joining the extrema and the origin like in figure 2.\n",
    "\n",
    "# New line from origin to \"current position\", this represents the rod, string, chain, or whatever.\n",
    "# Note we keep the return value.\n",
    "line_list = plt.plot([0, x_array[0]], [0, y_array[0]])\n",
    "line = line_list[0]  # The plt.plot return value is a list with the actual line2D object in it.\n",
    "# Note that this line initially overlaps the one joining that extrema and the origin.\n",
    "\n",
    "# New plot with a single point at the \"current position\" to represent the pendulum bob.\n",
    "bob_list = plt.plot([x_array[0]], [y_array[0]])  # Just a single value\n",
    "bob = bob_list[0]  # The plt.plot return value is a list with the actual line2D object in it.\n",
    "bob.set_marker(\"o\")  # Instead of tracing a line between data points, just put a marker at each point.\n",
    "\n",
    "plt.xlabel(\"x (m)\")\n",
    "plt.ylabel(\"y (m)\")"
   ]
  },
  {
   "cell_type": "markdown",
   "id": "d3e7c757-39bf-4f1e-927c-87270709505b",
   "metadata": {},
   "source": [
    "We need to decide on a number of animation frames, and make a special function that accepts a frame index and modifies the `line` objects based on it.\n",
    "\n",
    "The most obvious choice is to have one frame per time value, and to change the data in `line` to the position of the pendulum bob at `times[frame]`.  \n",
    "\n",
    "This tutorial may be helpful: https://matplotlib.org/stable/tutorials/introductory/animation_tutorial.html"
   ]
  },
  {
   "cell_type": "code",
   "execution_count": null,
   "id": "c7a70c8b",
   "metadata": {},
   "outputs": [],
   "source": [
    "def update(frame):\n",
    "    x, y = x_array[frame], y_array[frame]  # Get current coordinates of pendulum bob.\n",
    "    \n",
    "    bob.set_data([x], [y])  # Update the pendulum bob to the new \"current position\"\n",
    "    line.set_data([0, x], [0, y])  # Update the pendulum line\n",
    "    return"
   ]
  },
  {
   "cell_type": "markdown",
   "id": "03576a45",
   "metadata": {},
   "source": [
    "We create a `FuncAnimation` object.  We need to give it the figure, the update function, the number of frames, and the time interval between frames in microseconds.  Since our times are in seconds and we're using one animation frame per time point, we can calculate this directly."
   ]
  },
  {
   "cell_type": "code",
   "execution_count": null,
   "id": "e4036a95",
   "metadata": {},
   "outputs": [],
   "source": [
    "from matplotlib.animation import FuncAnimation as fa\n",
    "nframes = len(times)\n",
    "dt = 1000*(times[-1]-times[0])/nframes  # microseconds\n",
    "ani = fa(fig3, func=update, frames=nframes, interval=dt)  # Create the animation object\n",
    "ani.save(f\"plots/PHYS125_Pendulum_Animation.gif\")  # Save to a file (note animations use save, not savefig)"
   ]
  },
  {
   "cell_type": "markdown",
   "id": "80ca041e",
   "metadata": {},
   "source": [
    "The animation object is not drawn directly in Jupyter, you have to navigate to the file manager to download it, or use the following IPython hack to display it in the notebook."
   ]
  },
  {
   "cell_type": "code",
   "execution_count": null,
   "id": "bce4f915",
   "metadata": {},
   "outputs": [],
   "source": [
    "import IPython\n",
    "IPython.display.display(IPython.display.HTML(ani.to_jshtml()))"
   ]
  },
  {
   "cell_type": "markdown",
   "id": "c317cdc0",
   "metadata": {},
   "source": [
    "Can you go back to the ballistic motion exercise and make an animation of that physical system?"
   ]
  }
 ],
 "metadata": {
  "kernelspec": {
   "display_name": "Python 3 (ipykernel)",
   "language": "python",
   "name": "python3"
  },
  "language_info": {
   "codemirror_mode": {
    "name": "ipython",
    "version": 3
   },
   "file_extension": ".py",
   "mimetype": "text/x-python",
   "name": "python",
   "nbconvert_exporter": "python",
   "pygments_lexer": "ipython3",
   "version": "3.11.4"
  }
 },
 "nbformat": 4,
 "nbformat_minor": 5
}
